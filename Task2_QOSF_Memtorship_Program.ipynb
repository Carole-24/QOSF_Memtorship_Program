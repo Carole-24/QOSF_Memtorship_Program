#Given a list of integer numbers, look for a negative number in the list. 
#Consider an appropriate number of qubits and explain why your proposal is valid for all kinds of numbers in case. 
#Note: use a framework that works with quantum circuits like qiskit and consider printing your quantum circuit.

#def find_negative_numbers(list[int]:list_number):

#list_number : integer list!. Return the True or False depends of the input

from qiskit import QuantumCircuit, Aer, execute

def find_negative_numbers(list_number):
    
    # Determine the number of qubits required
    nbqubits = len(bin(max(list_number))) - 2

    # Create a quantum circuit with nqubits
    circuit = QuantumCircuit(nbqubits, nbqubits)

    # Encode the input list
    for i, number in enumerate(list_number):
        if number < 0:
            circuit.x(i)# This line flip the qubit representing the negative number

    # Measure all the qubits
    circuit.measure(range(nbqubits), range(nbqubits))
    print(circuit)  # Print the quantum circuit

    # Simulate the circuit using the Qiskit Aer simulator
    simulator = Aer.get_backend('qasm_simulator')
    job = execute(circuit, simulator, shots=1)

    # Check the measurement results
    result = job.result()
    counts = result.get_counts(circuit)

    # Return True if any measurement result is non-zero, indicating a negative number
    return any(counts.get(key, 0) > 0 for key in counts)

#Try the function with a given list
list_numbers = [8, 4, -2, 7]
result = find_negative_numbers(list_numbers)
print(result) 

